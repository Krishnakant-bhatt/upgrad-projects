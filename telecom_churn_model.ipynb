{
 "cells": [
  {
   "cell_type": "markdown",
   "metadata": {},
   "source": [
    "# Case-Study: Telecom Churn\n",
    "\n",
    "* Usage-based churn determination\n",
    "* Churn to be predicted for September based on June, July and August data\n",
    "* Phase coding:\n",
    "    * Good Month: June, July\n",
    "    * Action Month: Aug\n",
    "    * Churn Month: Sept\n",
    "\n",
    "\n",
    "* Churn needs to be predicted for High-Value customers; How to find these customers?\n",
    "    * Recharge Amount > X, where X is the 70th percentile of Recharge Amount distribution\n",
    "\n",
    "\n",
    "* How to perform Churn Tagging?\n",
    "    * Churn tagging will be done based on information of the 4th month (Sept)\n",
    "    * Condition 1: No calls made in that month\n",
    "    * Condition 2: No mobile internet usage in that month\n",
    "    * Condition 1 AND Condition 2\n",
    "    * Attributes indicated in the Problem Statement: total_ic_mou_9, total_og_mou_9, vol_2g_mb_9, vol_3g_mb_9\n",
    "    * IMP: After churner tagging, the features of September are no longer required for the analysis and model building, and we can remove these features\n",
    "\n",
    "\n",
    "* Main goals of the model/models:\n",
    "    * Predict which customer will churn\n",
    "    * Identify the important features to consider for the analysis\n",
    "\n",
    "\n",
    "* Recommended approach: PCA --> Classifier\n",
    "* Class imbalance is to be expected\n",
    "\n",
    "\n",
    "* Suggested steps to build the model [ONLY PREDICTION PART] (for reference):\n",
    "    * Preprocess data (convert columns to appropriate formats, handle missing values, etc.)\n",
    "    * Conduct appropriate exploratory analysis to extract useful insights (whether directly useful for business or for eventual modelling/feature engineering).\n",
    "    * Derive new features.\n",
    "    * Reduce the number of variables using PCA.\n",
    "    * Train a variety of models, tune model hyperparameters, etc. (handle class imbalance using appropriate techniques).\n",
    "    * Evaluate the models using appropriate evaluation metrics. Note that is is more important to identify churners than the non-churners accurately - choose an appropriate evaluation metric which reflects this business goal.\n",
    "    * Finally, choose a model based on some evaluation metric.\n",
    "    \n",
    "\n",
    "* Use of LR or Decision Trees to identify useful features for the sake of the business user; Highlights of the feature usefulness with the help of plots\n",
    "\n",
    "* Closing: Interpretation of the results by suggestion of strategies"
   ]
  },
  {
   "cell_type": "code",
   "execution_count": 1,
   "metadata": {},
   "outputs": [
    {
     "name": "stdout",
     "output_type": "stream",
     "text": [
      "Path:  G:\\UpGrad\\03_ML_2\\07_CaseStudy_TelecomChurn\n",
      "\n",
      "Files in OS Path:\n",
      " ['.ipynb_checkpoints', 'Data+Dictionary-+Telecom+Churn+Case+Study.xlsx', 'telecom_churn_data.csv', 'Untitled.ipynb', '~$Data+Dictionary-+Telecom+Churn+Case+Study.xlsx']\n"
     ]
    }
   ],
   "source": [
    "import os\n",
    "dirname = os.getcwd()\n",
    "print('Path: ', dirname)\n",
    "print('\\nFiles in OS Path:\\n',os.listdir(dirname))"
   ]
  },
  {
   "cell_type": "code",
   "execution_count": 2,
   "metadata": {},
   "outputs": [],
   "source": [
    "import pandas as pd\n",
    "import numpy as np\n",
    "\n",
    "import matplotlib.pyplot as plt\n",
    "import seaborn as sns"
   ]
  },
  {
   "cell_type": "code",
   "execution_count": 3,
   "metadata": {},
   "outputs": [
    {
     "data": {
      "text/plain": [
       "(99999, 226)"
      ]
     },
     "execution_count": 3,
     "metadata": {},
     "output_type": "execute_result"
    }
   ],
   "source": [
    "dataframe = pd.read_csv('telecom_churn_data.csv')\n",
    "dataframe.shape"
   ]
  },
  {
   "cell_type": "code",
   "execution_count": 4,
   "metadata": {},
   "outputs": [
    {
     "data": {
      "text/html": [
       "<div>\n",
       "<style scoped>\n",
       "    .dataframe tbody tr th:only-of-type {\n",
       "        vertical-align: middle;\n",
       "    }\n",
       "\n",
       "    .dataframe tbody tr th {\n",
       "        vertical-align: top;\n",
       "    }\n",
       "\n",
       "    .dataframe thead th {\n",
       "        text-align: right;\n",
       "    }\n",
       "</style>\n",
       "<table border=\"1\" class=\"dataframe\">\n",
       "  <thead>\n",
       "    <tr style=\"text-align: right;\">\n",
       "      <th></th>\n",
       "      <th>mobile_number</th>\n",
       "      <th>circle_id</th>\n",
       "      <th>loc_og_t2o_mou</th>\n",
       "      <th>std_og_t2o_mou</th>\n",
       "      <th>loc_ic_t2o_mou</th>\n",
       "      <th>last_date_of_month_6</th>\n",
       "      <th>last_date_of_month_7</th>\n",
       "      <th>last_date_of_month_8</th>\n",
       "      <th>last_date_of_month_9</th>\n",
       "      <th>arpu_6</th>\n",
       "      <th>...</th>\n",
       "      <th>sachet_3g_9</th>\n",
       "      <th>fb_user_6</th>\n",
       "      <th>fb_user_7</th>\n",
       "      <th>fb_user_8</th>\n",
       "      <th>fb_user_9</th>\n",
       "      <th>aon</th>\n",
       "      <th>aug_vbc_3g</th>\n",
       "      <th>jul_vbc_3g</th>\n",
       "      <th>jun_vbc_3g</th>\n",
       "      <th>sep_vbc_3g</th>\n",
       "    </tr>\n",
       "  </thead>\n",
       "  <tbody>\n",
       "    <tr>\n",
       "      <th>0</th>\n",
       "      <td>7000842753</td>\n",
       "      <td>109</td>\n",
       "      <td>0.0</td>\n",
       "      <td>0.0</td>\n",
       "      <td>0.0</td>\n",
       "      <td>6/30/2014</td>\n",
       "      <td>7/31/2014</td>\n",
       "      <td>8/31/2014</td>\n",
       "      <td>9/30/2014</td>\n",
       "      <td>197.385</td>\n",
       "      <td>...</td>\n",
       "      <td>0</td>\n",
       "      <td>1.0</td>\n",
       "      <td>1.0</td>\n",
       "      <td>1.0</td>\n",
       "      <td>NaN</td>\n",
       "      <td>968</td>\n",
       "      <td>30.4</td>\n",
       "      <td>0.0</td>\n",
       "      <td>101.20</td>\n",
       "      <td>3.58</td>\n",
       "    </tr>\n",
       "    <tr>\n",
       "      <th>1</th>\n",
       "      <td>7001865778</td>\n",
       "      <td>109</td>\n",
       "      <td>0.0</td>\n",
       "      <td>0.0</td>\n",
       "      <td>0.0</td>\n",
       "      <td>6/30/2014</td>\n",
       "      <td>7/31/2014</td>\n",
       "      <td>8/31/2014</td>\n",
       "      <td>9/30/2014</td>\n",
       "      <td>34.047</td>\n",
       "      <td>...</td>\n",
       "      <td>0</td>\n",
       "      <td>NaN</td>\n",
       "      <td>1.0</td>\n",
       "      <td>1.0</td>\n",
       "      <td>NaN</td>\n",
       "      <td>1006</td>\n",
       "      <td>0.0</td>\n",
       "      <td>0.0</td>\n",
       "      <td>0.00</td>\n",
       "      <td>0.00</td>\n",
       "    </tr>\n",
       "    <tr>\n",
       "      <th>2</th>\n",
       "      <td>7001625959</td>\n",
       "      <td>109</td>\n",
       "      <td>0.0</td>\n",
       "      <td>0.0</td>\n",
       "      <td>0.0</td>\n",
       "      <td>6/30/2014</td>\n",
       "      <td>7/31/2014</td>\n",
       "      <td>8/31/2014</td>\n",
       "      <td>9/30/2014</td>\n",
       "      <td>167.690</td>\n",
       "      <td>...</td>\n",
       "      <td>0</td>\n",
       "      <td>NaN</td>\n",
       "      <td>NaN</td>\n",
       "      <td>NaN</td>\n",
       "      <td>1.0</td>\n",
       "      <td>1103</td>\n",
       "      <td>0.0</td>\n",
       "      <td>0.0</td>\n",
       "      <td>4.17</td>\n",
       "      <td>0.00</td>\n",
       "    </tr>\n",
       "    <tr>\n",
       "      <th>3</th>\n",
       "      <td>7001204172</td>\n",
       "      <td>109</td>\n",
       "      <td>0.0</td>\n",
       "      <td>0.0</td>\n",
       "      <td>0.0</td>\n",
       "      <td>6/30/2014</td>\n",
       "      <td>7/31/2014</td>\n",
       "      <td>8/31/2014</td>\n",
       "      <td>9/30/2014</td>\n",
       "      <td>221.338</td>\n",
       "      <td>...</td>\n",
       "      <td>0</td>\n",
       "      <td>NaN</td>\n",
       "      <td>NaN</td>\n",
       "      <td>NaN</td>\n",
       "      <td>NaN</td>\n",
       "      <td>2491</td>\n",
       "      <td>0.0</td>\n",
       "      <td>0.0</td>\n",
       "      <td>0.00</td>\n",
       "      <td>0.00</td>\n",
       "    </tr>\n",
       "    <tr>\n",
       "      <th>4</th>\n",
       "      <td>7000142493</td>\n",
       "      <td>109</td>\n",
       "      <td>0.0</td>\n",
       "      <td>0.0</td>\n",
       "      <td>0.0</td>\n",
       "      <td>6/30/2014</td>\n",
       "      <td>7/31/2014</td>\n",
       "      <td>8/31/2014</td>\n",
       "      <td>9/30/2014</td>\n",
       "      <td>261.636</td>\n",
       "      <td>...</td>\n",
       "      <td>0</td>\n",
       "      <td>0.0</td>\n",
       "      <td>NaN</td>\n",
       "      <td>NaN</td>\n",
       "      <td>NaN</td>\n",
       "      <td>1526</td>\n",
       "      <td>0.0</td>\n",
       "      <td>0.0</td>\n",
       "      <td>0.00</td>\n",
       "      <td>0.00</td>\n",
       "    </tr>\n",
       "  </tbody>\n",
       "</table>\n",
       "<p>5 rows × 226 columns</p>\n",
       "</div>"
      ],
      "text/plain": [
       "   mobile_number  circle_id  loc_og_t2o_mou  std_og_t2o_mou  loc_ic_t2o_mou  \\\n",
       "0     7000842753        109             0.0             0.0             0.0   \n",
       "1     7001865778        109             0.0             0.0             0.0   \n",
       "2     7001625959        109             0.0             0.0             0.0   \n",
       "3     7001204172        109             0.0             0.0             0.0   \n",
       "4     7000142493        109             0.0             0.0             0.0   \n",
       "\n",
       "  last_date_of_month_6 last_date_of_month_7 last_date_of_month_8  \\\n",
       "0            6/30/2014            7/31/2014            8/31/2014   \n",
       "1            6/30/2014            7/31/2014            8/31/2014   \n",
       "2            6/30/2014            7/31/2014            8/31/2014   \n",
       "3            6/30/2014            7/31/2014            8/31/2014   \n",
       "4            6/30/2014            7/31/2014            8/31/2014   \n",
       "\n",
       "  last_date_of_month_9   arpu_6  ...  sachet_3g_9  fb_user_6  fb_user_7  \\\n",
       "0            9/30/2014  197.385  ...            0        1.0        1.0   \n",
       "1            9/30/2014   34.047  ...            0        NaN        1.0   \n",
       "2            9/30/2014  167.690  ...            0        NaN        NaN   \n",
       "3            9/30/2014  221.338  ...            0        NaN        NaN   \n",
       "4            9/30/2014  261.636  ...            0        0.0        NaN   \n",
       "\n",
       "   fb_user_8  fb_user_9   aon  aug_vbc_3g  jul_vbc_3g  jun_vbc_3g  sep_vbc_3g  \n",
       "0        1.0        NaN   968        30.4         0.0      101.20        3.58  \n",
       "1        1.0        NaN  1006         0.0         0.0        0.00        0.00  \n",
       "2        NaN        1.0  1103         0.0         0.0        4.17        0.00  \n",
       "3        NaN        NaN  2491         0.0         0.0        0.00        0.00  \n",
       "4        NaN        NaN  1526         0.0         0.0        0.00        0.00  \n",
       "\n",
       "[5 rows x 226 columns]"
      ]
     },
     "execution_count": 4,
     "metadata": {},
     "output_type": "execute_result"
    }
   ],
   "source": [
    "dataframe.head()"
   ]
  },
  {
   "cell_type": "markdown",
   "metadata": {},
   "source": [
    "**Filtering for the High-Value Customers**\n",
    "\n",
    "* Let us consolidate the total recharge amount (total_rech_amt_x) for the various months, as this is the most likely derived feature based on which the filtering is to be performed.\n",
    "* We need to obtain the Average Recharge Amount for the Good Months"
   ]
  },
  {
   "cell_type": "code",
   "execution_count": 5,
   "metadata": {},
   "outputs": [
    {
     "name": "stdout",
     "output_type": "stream",
     "text": [
      "['total_rech_num_6', 'total_rech_num_7', 'total_rech_num_8', 'total_rech_num_9', 'total_rech_amt_6', 'total_rech_amt_7', 'total_rech_amt_8', 'total_rech_amt_9', 'max_rech_amt_6', 'max_rech_amt_7', 'max_rech_amt_8', 'max_rech_amt_9', 'date_of_last_rech_6', 'date_of_last_rech_7', 'date_of_last_rech_8', 'date_of_last_rech_9', 'date_of_last_rech_data_6', 'date_of_last_rech_data_7', 'date_of_last_rech_data_8', 'date_of_last_rech_data_9', 'total_rech_data_6', 'total_rech_data_7', 'total_rech_data_8', 'total_rech_data_9', 'max_rech_data_6', 'max_rech_data_7', 'max_rech_data_8', 'max_rech_data_9', 'count_rech_2g_6', 'count_rech_2g_7', 'count_rech_2g_8', 'count_rech_2g_9', 'count_rech_3g_6', 'count_rech_3g_7', 'count_rech_3g_8', 'count_rech_3g_9', 'av_rech_amt_data_6', 'av_rech_amt_data_7', 'av_rech_amt_data_8', 'av_rech_amt_data_9']\n",
      "\n",
      "\n",
      "Aggregate Recharge\n",
      " 0    307.0\n",
      "1    229.0\n",
      "2    241.5\n",
      "3    270.0\n",
      "4    273.0\n",
      "Name: rech_aggregate_6_7, dtype: float64\n",
      "\n",
      "\n",
      "Shape after filtering:  (30011, 227)\n"
     ]
    }
   ],
   "source": [
    "# Filter by the 70th Percentile of the Recharge Amount\n",
    "rech_cols = [col for col in dataframe.columns if 'rech' in col]\n",
    "print(rech_cols)\n",
    "\n",
    "# Determining High-Value Customers based on consolidated recharge amounts of the 'Good' months\n",
    "dataframe['rech_aggregate_6_7'] = (dataframe['total_rech_amt_6'] + dataframe['total_rech_amt_7'])/2\n",
    "print('\\n\\nAggregate Recharge\\n', dataframe['rech_aggregate_6_7'].head())\n",
    "\n",
    "# 70th percentile Amount\n",
    "rech_70 = dataframe['rech_aggregate_6_7'].quantile(0.7)\n",
    "\n",
    "# Filter\n",
    "dataframe = dataframe[dataframe['rech_aggregate_6_7'] >= rech_70]\n",
    "print('\\n\\nShape after filtering: ',dataframe.shape)"
   ]
  },
  {
   "cell_type": "code",
   "execution_count": 6,
   "metadata": {},
   "outputs": [
    {
     "data": {
      "text/plain": [
       "0"
      ]
     },
     "execution_count": 6,
     "metadata": {},
     "output_type": "execute_result"
    }
   ],
   "source": [
    "# Checking if there are missing values in this column, though we expect there to be none\n",
    "dataframe['rech_aggregate_6_7'].isna().sum()"
   ]
  },
  {
   "cell_type": "markdown",
   "metadata": {},
   "source": [
    "* A lot of the features are given specifically per month (6-9 for June to Sept); Let us check which columns are not specific to any month\n",
    "* Not specific to month: mobile_number, circle_id, "
   ]
  },
  {
   "cell_type": "code",
   "execution_count": 7,
   "metadata": {},
   "outputs": [
    {
     "name": "stderr",
     "output_type": "stream",
     "text": [
      "I:\\ML_Anaconda_Python_3.6\\Anaconda\\lib\\site-packages\\ipykernel_launcher.py:9: SettingWithCopyWarning: \n",
      "A value is trying to be set on a copy of a slice from a DataFrame\n",
      "\n",
      "See the caveats in the documentation: http://pandas.pydata.org/pandas-docs/stable/user_guide/indexing.html#returning-a-view-versus-a-copy\n",
      "  if __name__ == '__main__':\n",
      "I:\\ML_Anaconda_Python_3.6\\Anaconda\\lib\\site-packages\\ipykernel_launcher.py:11: SettingWithCopyWarning: \n",
      "A value is trying to be set on a copy of a slice from a DataFrame\n",
      "\n",
      "See the caveats in the documentation: http://pandas.pydata.org/pandas-docs/stable/user_guide/indexing.html#returning-a-view-versus-a-copy\n",
      "  # This is added back by InteractiveShellApp.init_path()\n"
     ]
    },
    {
     "data": {
      "text/plain": [
       "7        1.0\n",
       "8        0.0\n",
       "13       0.0\n",
       "16       0.0\n",
       "17       0.0\n",
       "        ... \n",
       "99970    0.0\n",
       "99974    0.0\n",
       "99986    0.0\n",
       "99988    0.0\n",
       "99997    0.0\n",
       "Name: Churn, Length: 30011, dtype: float64"
      ]
     },
     "execution_count": 7,
     "metadata": {},
     "output_type": "execute_result"
    }
   ],
   "source": [
    "# 0 calls AND 0 MB data --> Churn\n",
    "dataframe[['total_ic_mou_9', 'total_og_mou_9', 'vol_2g_mb_9', 'vol_3g_mb_9']]\n",
    "\n",
    "dataframe['Churn'] = np.nan\n",
    "for i in list(dataframe.index):\n",
    "    cond1 = round(dataframe['total_ic_mou_9'][i] + dataframe['total_og_mou_9'][i])\n",
    "    cond2 = round(dataframe['vol_2g_mb_9'][i] + dataframe['vol_3g_mb_9'][i])\n",
    "    if (cond1 == 0) & (cond2 == 0):\n",
    "        dataframe['Churn'][i] = 1\n",
    "    else:\n",
    "        dataframe['Churn'][i] = 0\n",
    "\n",
    "dataframe['Churn']"
   ]
  },
  {
   "cell_type": "code",
   "execution_count": 8,
   "metadata": {},
   "outputs": [
    {
     "data": {
      "text/plain": [
       "(30011, 228)"
      ]
     },
     "execution_count": 8,
     "metadata": {},
     "output_type": "execute_result"
    }
   ],
   "source": [
    "dataframe.shape"
   ]
  },
  {
   "cell_type": "code",
   "execution_count": 9,
   "metadata": {},
   "outputs": [
    {
     "data": {
      "text/plain": [
       "((30011, 174),\n",
       " Index(['mobile_number', 'circle_id', 'loc_og_t2o_mou', 'std_og_t2o_mou',\n",
       "        'loc_ic_t2o_mou', 'last_date_of_month_6', 'last_date_of_month_7',\n",
       "        'last_date_of_month_8', 'arpu_6', 'arpu_7',\n",
       "        ...\n",
       "        'fb_user_6', 'fb_user_7', 'fb_user_8', 'aon', 'aug_vbc_3g',\n",
       "        'jul_vbc_3g', 'jun_vbc_3g', 'sep_vbc_3g', 'rech_aggregate_6_7',\n",
       "        'Churn'],\n",
       "       dtype='object', length=174))"
      ]
     },
     "execution_count": 9,
     "metadata": {},
     "output_type": "execute_result"
    }
   ],
   "source": [
    "# Since we have completed Churn Tagging, \n",
    "# the features of September are no longer required for the analysis \n",
    "# and model building, so we can remove these features\n",
    "\n",
    "data_sept = [col for col in dataframe.columns if '_9' in col]\n",
    "\n",
    "dataframe = dataframe.drop(data_sept, axis = 1)\n",
    "dataframe.shape, dataframe.columns"
   ]
  },
  {
   "cell_type": "markdown",
   "metadata": {},
   "source": [
    "**===============================================================================**\n",
    "\n",
    "**Missing Value Analysis**\n",
    "\n",
    "* Drop List 1 will consist of all features that have more than 50% missing values"
   ]
  },
  {
   "cell_type": "code",
   "execution_count": 12,
   "metadata": {},
   "outputs": [
    {
     "name": "stdout",
     "output_type": "stream",
     "text": [
      "date_of_last_rech_data_6 \t 62.0239245609943\n",
      "date_of_last_rech_data_7 \t 61.14091499783413\n",
      "date_of_last_rech_data_8 \t 60.834360734397386\n",
      "total_rech_data_6 \t 62.0239245609943\n",
      "total_rech_data_7 \t 61.14091499783413\n",
      "total_rech_data_8 \t 60.834360734397386\n",
      "max_rech_data_6 \t 62.0239245609943\n",
      "max_rech_data_7 \t 61.14091499783413\n",
      "max_rech_data_8 \t 60.834360734397386\n",
      "count_rech_2g_6 \t 62.0239245609943\n",
      "count_rech_2g_7 \t 61.14091499783413\n",
      "count_rech_2g_8 \t 60.834360734397386\n",
      "count_rech_3g_6 \t 62.0239245609943\n",
      "count_rech_3g_7 \t 61.14091499783413\n",
      "count_rech_3g_8 \t 60.834360734397386\n",
      "av_rech_amt_data_6 \t 62.0239245609943\n",
      "av_rech_amt_data_7 \t 61.14091499783413\n",
      "av_rech_amt_data_8 \t 60.834360734397386\n",
      "arpu_3g_6 \t 62.0239245609943\n",
      "arpu_3g_7 \t 61.14091499783413\n",
      "arpu_3g_8 \t 60.834360734397386\n",
      "arpu_2g_6 \t 62.0239245609943\n",
      "arpu_2g_7 \t 61.14091499783413\n",
      "arpu_2g_8 \t 60.834360734397386\n",
      "night_pck_user_6 \t 62.0239245609943\n",
      "night_pck_user_7 \t 61.14091499783413\n",
      "night_pck_user_8 \t 60.834360734397386\n",
      "fb_user_6 \t 62.0239245609943\n",
      "fb_user_7 \t 61.14091499783413\n",
      "fb_user_8 \t 60.834360734397386\n"
     ]
    }
   ],
   "source": [
    "# Get the list of columns that have more than 50% missing values\n",
    "\n",
    "drop_list_50 = []\n",
    "for col in dataframe.columns:\n",
    "    if (dataframe[col].isna().sum()/dataframe.shape[0]) >= 0.5:\n",
    "        print(col,'\\t',100*dataframe[col].isna().sum()/dataframe.shape[0])\n",
    "        drop_list_50.append(col)"
   ]
  },
  {
   "cell_type": "code",
   "execution_count": null,
   "metadata": {},
   "outputs": [],
   "source": [
    "'''# Dropping the columns that have excessive missing values\n",
    "dataframe = dataframe.drop(drop_list_50, axis = 1)\n",
    "print('\\n\\nNew Shape: ', dataframe.shape)'''"
   ]
  },
  {
   "cell_type": "code",
   "execution_count": 11,
   "metadata": {
    "scrolled": true
   },
   "outputs": [
    {
     "name": "stdout",
     "output_type": "stream",
     "text": [
      "Features: |:|     |:|55|:|     |:|\t|:|     |:|last_date_of_month_6|:|     |:|arpu_6|:|     |:|onnet_mou_6|:|     |:|offnet_mou_6|:|     |:|roam_ic_mou_6|:|     |:|roam_og_mou_6|:|     |:|loc_og_t2t_mou_6|:|     |:|loc_og_t2m_mou_6|:|     |:|loc_og_t2f_mou_6|:|     |:|loc_og_t2c_mou_6|:|     |:|loc_og_mou_6|:|     |:|std_og_t2t_mou_6|:|     |:|std_og_t2m_mou_6|:|     |:|std_og_t2f_mou_6|:|     |:|std_og_t2c_mou_6|:|     |:|std_og_mou_6|:|     |:|isd_og_mou_6|:|     |:|spl_og_mou_6|:|     |:|og_others_6|:|     |:|total_og_mou_6|:|     |:|loc_ic_t2t_mou_6|:|     |:|loc_ic_t2m_mou_6|:|     |:|loc_ic_t2f_mou_6|:|     |:|loc_ic_mou_6|:|     |:|std_ic_t2t_mou_6|:|     |:|std_ic_t2m_mou_6|:|     |:|std_ic_t2f_mou_6|:|     |:|std_ic_t2o_mou_6|:|     |:|std_ic_mou_6|:|     |:|total_ic_mou_6|:|     |:|spl_ic_mou_6|:|     |:|isd_ic_mou_6|:|     |:|ic_others_6|:|     |:|total_rech_num_6|:|     |:|total_rech_amt_6|:|     |:|max_rech_amt_6|:|     |:|date_of_last_rech_6|:|     |:|last_day_rch_amt_6|:|     |:|date_of_last_rech_data_6|:|     |:|total_rech_data_6|:|     |:|max_rech_data_6|:|     |:|count_rech_2g_6|:|     |:|count_rech_3g_6|:|     |:|av_rech_amt_data_6|:|     |:|vol_2g_mb_6|:|     |:|vol_3g_mb_6|:|     |:|arpu_3g_6|:|     |:|arpu_2g_6|:|     |:|night_pck_user_6|:|     |:|monthly_2g_6|:|     |:|sachet_2g_6|:|     |:|monthly_3g_6|:|     |:|sachet_3g_6|:|     |:|fb_user_6|:|     |:|rech_aggregate_6_7\n",
      "\n",
      "\n",
      "|:|     |:|Features: |:|     |:|55|:|     |:|\t|:|     |:|last_date_of_month_7|:|     |:|arpu_7|:|     |:|onnet_mou_7|:|     |:|offnet_mou_7|:|     |:|roam_ic_mou_7|:|     |:|roam_og_mou_7|:|     |:|loc_og_t2t_mou_7|:|     |:|loc_og_t2m_mou_7|:|     |:|loc_og_t2f_mou_7|:|     |:|loc_og_t2c_mou_7|:|     |:|loc_og_mou_7|:|     |:|std_og_t2t_mou_7|:|     |:|std_og_t2m_mou_7|:|     |:|std_og_t2f_mou_7|:|     |:|std_og_t2c_mou_7|:|     |:|std_og_mou_7|:|     |:|isd_og_mou_7|:|     |:|spl_og_mou_7|:|     |:|og_others_7|:|     |:|total_og_mou_7|:|     |:|loc_ic_t2t_mou_7|:|     |:|loc_ic_t2m_mou_7|:|     |:|loc_ic_t2f_mou_7|:|     |:|loc_ic_mou_7|:|     |:|std_ic_t2t_mou_7|:|     |:|std_ic_t2m_mou_7|:|     |:|std_ic_t2f_mou_7|:|     |:|std_ic_t2o_mou_7|:|     |:|std_ic_mou_7|:|     |:|total_ic_mou_7|:|     |:|spl_ic_mou_7|:|     |:|isd_ic_mou_7|:|     |:|ic_others_7|:|     |:|total_rech_num_7|:|     |:|total_rech_amt_7|:|     |:|max_rech_amt_7|:|     |:|date_of_last_rech_7|:|     |:|last_day_rch_amt_7|:|     |:|date_of_last_rech_data_7|:|     |:|total_rech_data_7|:|     |:|max_rech_data_7|:|     |:|count_rech_2g_7|:|     |:|count_rech_3g_7|:|     |:|av_rech_amt_data_7|:|     |:|vol_2g_mb_7|:|     |:|vol_3g_mb_7|:|     |:|arpu_3g_7|:|     |:|arpu_2g_7|:|     |:|night_pck_user_7|:|     |:|monthly_2g_7|:|     |:|sachet_2g_7|:|     |:|monthly_3g_7|:|     |:|sachet_3g_7|:|     |:|fb_user_7|:|     |:|rech_aggregate_6_7\n",
      "\n",
      "\n",
      "|:|     |:|Features: |:|     |:|54|:|     |:|\t|:|     |:|last_date_of_month_8|:|     |:|arpu_8|:|     |:|onnet_mou_8|:|     |:|offnet_mou_8|:|     |:|roam_ic_mou_8|:|     |:|roam_og_mou_8|:|     |:|loc_og_t2t_mou_8|:|     |:|loc_og_t2m_mou_8|:|     |:|loc_og_t2f_mou_8|:|     |:|loc_og_t2c_mou_8|:|     |:|loc_og_mou_8|:|     |:|std_og_t2t_mou_8|:|     |:|std_og_t2m_mou_8|:|     |:|std_og_t2f_mou_8|:|     |:|std_og_t2c_mou_8|:|     |:|std_og_mou_8|:|     |:|isd_og_mou_8|:|     |:|spl_og_mou_8|:|     |:|og_others_8|:|     |:|total_og_mou_8|:|     |:|loc_ic_t2t_mou_8|:|     |:|loc_ic_t2m_mou_8|:|     |:|loc_ic_t2f_mou_8|:|     |:|loc_ic_mou_8|:|     |:|std_ic_t2t_mou_8|:|     |:|std_ic_t2m_mou_8|:|     |:|std_ic_t2f_mou_8|:|     |:|std_ic_t2o_mou_8|:|     |:|std_ic_mou_8|:|     |:|total_ic_mou_8|:|     |:|spl_ic_mou_8|:|     |:|isd_ic_mou_8|:|     |:|ic_others_8|:|     |:|total_rech_num_8|:|     |:|total_rech_amt_8|:|     |:|max_rech_amt_8|:|     |:|date_of_last_rech_8|:|     |:|last_day_rch_amt_8|:|     |:|date_of_last_rech_data_8|:|     |:|total_rech_data_8|:|     |:|max_rech_data_8|:|     |:|count_rech_2g_8|:|     |:|count_rech_3g_8|:|     |:|av_rech_amt_data_8|:|     |:|vol_2g_mb_8|:|     |:|vol_3g_mb_8|:|     |:|arpu_3g_8|:|     |:|arpu_2g_8|:|     |:|night_pck_user_8|:|     |:|monthly_2g_8|:|     |:|sachet_2g_8|:|     |:|monthly_3g_8|:|     |:|sachet_3g_8|:|     |:|fb_user_8\n",
      "\n",
      "\n",
      "|:|     |:|Features: |:|     |:|11|:|     |:|\t|:|     |:|mobile_number|:|     |:|circle_id|:|     |:|loc_og_t2o_mou|:|     |:|std_og_t2o_mou|:|     |:|loc_ic_t2o_mou|:|     |:|aon|:|     |:|aug_vbc_3g|:|     |:|jul_vbc_3g|:|     |:|jun_vbc_3g|:|     |:|sep_vbc_3g|:|     |:|Churn\n"
     ]
    }
   ],
   "source": [
    "# Printing all the remaining columns, grouped by month\n",
    "print('Features: ', len([col for col in dataframe.columns if '_6' in col]), \n",
    "      '\\t',*[col for col in dataframe.columns if '_6' in col], sep = \"|:|     |:|\")\n",
    "print('\\n\\n','Features: ', len([col for col in dataframe.columns if '_7' in col]), \n",
    "      '\\t',*[col for col in dataframe.columns if '_7' in col], sep = \"|:|     |:|\")\n",
    "print('\\n\\n','Features: ', len([col for col in dataframe.columns if '_8' in col]), \n",
    "      '\\t',*[col for col in dataframe.columns if '_8' in col], sep = \"|:|     |:|\")\n",
    "print('\\n\\n',*[col for col in dataframe.columns if ('_6' not in col) & ('_7' not in col) & ('_8' not in col)], \n",
    "      sep = \"|:|     |:|\")"
   ]
  },
  {
   "cell_type": "markdown",
   "metadata": {},
   "source": [
    "The Significance of each type of feature (referring the Data Dictionary):\n",
    "\n",
    "* Month-wise features:\n",
    "    * last_date_of_month_X: Probably the last date of telecom activity for that month\n",
    "    * arpu_X: Average Revenue per User (Thiss looks like a significant feature for the company)\n",
    "    \n",
    "    * onnet_mou_X: Onnet deals with all calls made within the operator network (same); mou  is the minutes of usage of the call service; Therefore, the feature would provide us data on the total intra-operator call duration for the specified month\n",
    "    * offnet_mou_X: Total inter-operator (accross operators) call duration for the specified month\n",
    "    * roam_ic_mou_X: Total duration of roaming incoming calls for the specified month\n",
    "    * roam_og_mou_X: Same for outgoing calls\n",
    "    \n",
    "    * loc_og_t2t_mou_X: T2T implies intra-operator, so this may be a subset of onnet_mou_X; We need to check if this is the case or not\n",
    "    * loc_og_t2m_mou_X: T2M is for inter-operator calls (**subset of offnet_mou_X?**)\n",
    "    * loc_og_t2f_mou_X: T2F is an intra-operator case where fixed-lines (landlines) are involved\n",
    "    * loc_of_t2c_mou_X: T2C calls are towards the call centre, so it is possible that these types of calls do not generate revenue (**needs to be checked...**)\n",
    "    * loc_og_mou_X: This can be expected to be a super-set of all loc_og's (**to be tested**)\n",
    "    * std_og_t2t_mou_X: the T2T, T2M, T2F and T2C are all related to STD calls for these types of features (incl std_og's)\n",
    "    * isd_og_mou_X: isd_og has only the total duration feature (even before handling of missing values)\n",
    "    * spl_og_mou_X: Special Calls\n",
    "    * og_others_X: Self-explanatory\n",
    "    * total_og_mou_X: Superset of all OG's for that month (5,5,1,1,1)\n",
    "    \n",
    "    * Incoming Call durations for local, std, isd, special and others (and T2T, T2M, T2F for local and STD) (T2C undetected) (STD has additional T2O, for landlines from other operators); also, totals (4,5,1,1,1)\n",
    "    \n",
    "    * total_rech_num_X: Probably the number of times a recharge was done within the specified month\n",
    "    * total_rech_amt_X: Total recharge-related payment made by the customer in the specified month\n",
    "    * max_rech_amt_X: Largest single recharge denomination\n",
    "    * date_of_last_rech_X: Self-explanatory\n",
    "    * last_day_rch_amt_X: Related\n",
    "    \n",
    "    * date_of_last_rech_data_X: \n",
    "    * total_rech_data_X: \n",
    "    * max_rech_data_X: \n",
    "    * av_rech_amt_data_X: \n",
    "    \n",
    "    * night_pck_user_X: (PACKS - prepaid schemes; for specific hours of the night)\n",
    "    \n",
    "    * count_rech_2g_X, vol_2g_mb_X, arpu_2g_X, monthly_2g_X, \n",
    "    \n",
    "    * count_rech_3g_X, vol_3g_mb_X, arpu_3g_X, monthly_3g_X, \n",
    "* Generic Features:\n",
    "    * mobile_number\n",
    "    * circle_id\n",
    "    * loc_og_t2o_mou\n",
    "    * std_og_t2o_mou\n",
    "    * loc_ic_t2o_mou\n",
    "    * aon: Number of days the specific user has used the network\n",
    "    * aug_vbc_3g, jun_vbc_3g, jul_vbc_3g, sep_vbc_3g: Volume based cost (for non-specified plan); The September feature needs to be removed"
   ]
  }
 ],
 "metadata": {
  "kernelspec": {
   "display_name": "Python 3",
   "language": "python",
   "name": "python3"
  },
  "language_info": {
   "codemirror_mode": {
    "name": "ipython",
    "version": 3
   },
   "file_extension": ".py",
   "mimetype": "text/x-python",
   "name": "python",
   "nbconvert_exporter": "python",
   "pygments_lexer": "ipython3",
   "version": "3.6.9"
  }
 },
 "nbformat": 4,
 "nbformat_minor": 2
}
